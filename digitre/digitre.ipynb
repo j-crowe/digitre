{
 "cells": [
  {
   "cell_type": "markdown",
   "metadata": {},
   "source": [
    "<a id=\"Top\"></a>\n",
    "---\n",
    "---\n",
    "                                   ___                                     ___           ___     \n",
    "        _____                     /\\__\\                                   /\\  \\         /\\__\\    \n",
    "       /::\\  \\       ___         /:/ _/_       ___           ___         /::\\  \\       /:/ _/_   \n",
    "      /:/\\:\\  \\     /\\__\\       /:/ /\\  \\     /\\__\\         /\\__\\       /:/\\:\\__\\     /:/ /\\__\\  \n",
    "     /:/  \\:\\__\\   /:/__/      /:/ /::\\  \\   /:/__/        /:/  /      /:/ /:/  /    /:/ /:/ _/_ \n",
    "    /:/__/ \\:|__| /::\\  \\     /:/__\\/\\:\\__\\ /::\\  \\       /:/__/      /:/_/:/__/___ /:/_/:/ /\\__\\\n",
    "    \\:\\  \\ /:/  / \\/\\:\\  \\__  \\:\\  \\ /:/  / \\/\\:\\  \\__   /::\\  \\      \\:\\/:::::/  / \\:\\/:/ /:/  /\n",
    "     \\:\\  /:/  /   ~~\\:\\/\\__\\  \\:\\  /:/  /   ~~\\:\\/\\__\\ /:/\\:\\  \\      \\::/~~/~~~~   \\::/_/:/  / \n",
    "      \\:\\/:/  /       \\::/  /   \\:\\/:/  /       \\::/  / \\/__\\:\\  \\      \\:\\~~\\        \\:\\/:/  /  \n",
    "       \\::/  /        /:/  /     \\::/  /        /:/  /       \\:\\__\\      \\:\\__\\        \\::/  /   \n",
    "        \\/__/         \\/__/       \\/__/         \\/__/         \\/__/       \\/__/         \\/__/    \n",
    "---\n",
    "\n",
    "#### December 2016\n",
    "\n",
    "\n",
    "### Table of contents\n",
    "\n",
    "* [Build prediction model with tflearn and tensorflow](#TF)\n",
    "    * [Multilayer convolutional neural network](#CNN)\n",
    "    * [Serialize trained CNN model for serving](#Serialize)\n",
    "\n",
    "* [Classify digit examples from Digitre](#Digitre)\n",
    "    * [Example step-by-step preprocessing](#Prep)\n",
    "    * [Classify preprocessed images](#Class)"
   ]
  },
  {
   "cell_type": "code",
   "execution_count": 1,
   "metadata": {
    "collapsed": false
   },
   "outputs": [],
   "source": [
    "# Standard library\n",
    "import datetime\n",
    "import time\n",
    "\n",
    "# Third party libraries\n",
    "import numpy as np\n",
    "import matplotlib.pyplot as plt\n",
    "%matplotlib inline"
   ]
  },
  {
   "cell_type": "code",
   "execution_count": 2,
   "metadata": {
    "collapsed": false
   },
   "outputs": [],
   "source": [
    "# Digitre code\n",
    "import digitre_preprocessing as prep\n",
    "import digitre_model\n",
    "import digitre_classifier"
   ]
  },
  {
   "cell_type": "code",
   "execution_count": 3,
   "metadata": {
    "collapsed": false
   },
   "outputs": [
    {
     "data": {
      "text/plain": [
       "<module 'digitre_classifier' from '/Users/luis/Git/digitre/digitre/digitre_classifier.py'>"
      ]
     },
     "execution_count": 3,
     "metadata": {},
     "output_type": "execute_result"
    }
   ],
   "source": [
    "# Reload digitre code in the same session (during development)\n",
    "import imp\n",
    "imp.reload(prep)\n",
    "imp.reload(digitre_model)\n",
    "imp.reload(digitre_classifier)"
   ]
  },
  {
   "cell_type": "code",
   "execution_count": 4,
   "metadata": {
    "collapsed": false
   },
   "outputs": [
    {
     "data": {
      "text/plain": [
       "'2017-03-15 11:07:04.646703'"
      ]
     },
     "execution_count": 4,
     "metadata": {},
     "output_type": "execute_result"
    }
   ],
   "source": [
    "# Latest update\n",
    "str(datetime.datetime.now())"
   ]
  },
  {
   "cell_type": "markdown",
   "metadata": {},
   "source": [
    "<a id=\"TF\"></a>\n",
    "# Build prediction model with tflearn and tensorflow"
   ]
  },
  {
   "cell_type": "markdown",
   "metadata": {
    "collapsed": true
   },
   "source": [
    "<a id=\"CNN\"></a>\n",
    "## Multilayer convolutional neural network\n",
    "\n",
    "Code based on this tflearn [example](https://github.com/tflearn/tflearn/blob/master/examples/images/convnet_mnist.py), with CNN architecture modeled after TensorFlow's tutorial [Deep MNIST for experts](https://www.tensorflow.org/versions/r0.10/tutorials/mnist/pros/)."
   ]
  },
  {
   "cell_type": "code",
   "execution_count": 26,
   "metadata": {
    "collapsed": false
   },
   "outputs": [
    {
     "name": "stdout",
     "output_type": "stream",
     "text": [
      "Extracting mnist/train-images-idx3-ubyte.gz\n"
     ]
    },
    {
     "name": "stderr",
     "output_type": "stream",
     "text": [
      "/Users/luis/anaconda3/lib/python3.5/gzip.py:274: VisibleDeprecationWarning: converting an array with ndim > 0 to an index will result in an error in the future\n",
      "  return self._buffer.read(size)\n",
      "/Users/luis/anaconda3/lib/python3.5/site-packages/tflearn/datasets/mnist.py:52: VisibleDeprecationWarning: converting an array with ndim > 0 to an index will result in an error in the future\n",
      "  data = data.reshape(num_images, rows, cols, 1)\n"
     ]
    },
    {
     "name": "stdout",
     "output_type": "stream",
     "text": [
      "Extracting mnist/train-labels-idx1-ubyte.gz\n",
      "Extracting mnist/t10k-images-idx3-ubyte.gz\n",
      "Extracting mnist/t10k-labels-idx1-ubyte.gz\n"
     ]
    }
   ],
   "source": [
    "# Data loading and preprocessing\n",
    "X, Y, testX, testY = digitre_model.load_data()\n",
    "#X = X.reshape([-1, 28, 28, 1])\n",
    "#testX = testX.reshape([-1, 28, 28, 1])"
   ]
  },
  {
   "cell_type": "code",
   "execution_count": 101,
   "metadata": {
    "collapsed": false
   },
   "outputs": [],
   "source": [
    "# Plot functions\n",
    "def plot_digit(digit, show=True, file_name=None):\n",
    "    plt.imshow(digit, cmap = 'Greys', interpolation = 'none')\n",
    "    plt.tick_params(axis='both', which='both', bottom='off', top='off',\n",
    "                    labelbottom='off', right='off', left='off', labelleft='off')\n",
    "    if file_name is not None:\n",
    "        plt.savefig(file_name)\n",
    "    if show:\n",
    "        plt.show()\n",
    "    \n",
    "def plot_digits(digits, rows, columns):\n",
    "    for i, digit in enumerate(digits):\n",
    "        plt.subplot(rows, columns, i+1)\n",
    "        plot_digit(digit, show=False)\n",
    "    plt.show()"
   ]
  },
  {
   "cell_type": "code",
   "execution_count": 102,
   "metadata": {
    "collapsed": false
   },
   "outputs": [
    {
     "data": {
      "image/png": "[encoded data removed]",
      "text/plain": [
       "<matplotlib.figure.Figure at 0x1239915c0>"
      ]
     },
     "metadata": {},
     "output_type": "display_data"
    }
   ],
   "source": [
    "# Plot a few training examples\n",
    "X_eg = X[10:20,:,:,:]\n",
    "X_eg = [digit.reshape(28, 28) for digit in X_eg]\n",
    "\n",
    "plot_digits(X_eg, 2, 5)"
   ]
  },
  {
   "cell_type": "raw",
   "metadata": {
    "collapsed": true
   },
   "source": [
    "### Build convolutional cnn model\n",
    "cnn = digitre_model.build()\n",
    "\n",
    "# Training\n",
    "t0 = time.time()\n",
    "\n",
    "digitre_model.fit(cnn, X, Y, testX, testY, n_epoch=20, run_id='cnn_mnist')\n",
    "\n",
    "print('-----')\n",
    "print('-----')\n",
    "print('Completed in')\n",
    "prep.print_elapsed_time(t0)"
   ]
  },
  {
   "cell_type": "code",
   "execution_count": 103,
   "metadata": {
    "collapsed": true
   },
   "outputs": [],
   "source": [
    "# Visualization\n",
    "# Used \"tensorboard_verbose=0\", meaning Loss & Metric\n",
    "# Run \"$ tensorboard --logdir='/tmp/tflearn_logs'\""
   ]
  },
  {
   "cell_type": "raw",
   "metadata": {
    "collapsed": true
   },
   "source": [
    "# Save the model\n",
    "model.save('cnn.tflearn')\n",
    "\n",
    "### Output after 20 epochs\n",
    "# Training Step: 17200  | total loss: 0.45195\n",
    "# | Adam | epoch: 020 | loss: 0.45195 - acc: 0.9702 | val_loss: 0.03177 - val_acc: 0.9892 -- iter: 55000/55000\n",
    "# --\n",
    "# -----\n",
    "# -----\n",
    "# Completed in\n",
    "# 1.2 hr."
   ]
  },
  {
   "cell_type": "code",
   "execution_count": 104,
   "metadata": {
    "collapsed": true
   },
   "outputs": [],
   "source": [
    "### Fit model using all data (merge training and test data)\n",
    "# Done from command line:\n",
    "# $ python digitre_model.py -f 'cnn_alldata.tflearn' -a -e 20\n",
    "\n",
    "# Training Step: 20320  | total loss: 0.642990.9401 | val_loss: 0.052\n",
    "# | Adam | epoch: 020 | loss: 0.64299 - acc: 0.9401 | val_loss: 0.05263 - val_acc: 0.9866 -- iter: 65000/65000\n",
    "# --\n",
    "# -----\n",
    "# Completed training in\n",
    "# 3.5 hr.\n",
    "# -----\n",
    "# ... Saving trained model as \" cnn_alldata.tflearn \"\n"
   ]
  },
  {
   "cell_type": "markdown",
   "metadata": {},
   "source": [
    "<a id=\"Digitre\"></a>\n",
    "# Classify digit examples from Digitre"
   ]
  },
  {
   "cell_type": "markdown",
   "metadata": {
    "collapsed": true
   },
   "source": [
    "<a id=\"Prep\"></a>\n",
    "## Example step-by-step preprocessing\n",
    "\n",
    "Take example base64-encoded handwritten digit images (generated from html canvas element) and preprocess step-by-step to a format ready for classification model. Compare with MNIST example."
   ]
  },
  {
   "cell_type": "code",
   "execution_count": 105,
   "metadata": {
    "collapsed": false
   },
   "outputs": [
    {
     "name": "stdout",
     "output_type": "stream",
     "text": [
      "data:image/png;base64,iVBORw0KGgoAAAANSUhEUgAAAPoAAAD6CAYAAACI7Fo9AAAQ5klEQVR4Xu2dTcg2VQGGb6lNUJrUJjL8oywkrY0FRtZGhCBtV7nQIq2dCtrvolwElUK6K4y0hWFt1LYtLMuFbkyJwOhPSEQqtCikRRk3ztBhmJ/nfZ+Z55kz9zXw8X3f+84zc+77Ptdzzpw5c+YMseEADmzegTM2rxCBOIADAnQqAQ4EOADoASEjEQcAnTqAAwEOAHpAyEjEAUCnDuBAgAOAHhAyEnEA0KkDOBDgAKAHhIxEHAB06gAOBDgA6AEhIxEHAJ06gAMBDgB6QMhIxAFApw7gQIADgB4QMhJxANCpAzgQ4ACgB4SMRBwAdOoADgQ4AOgBISMRBwCdOoADAQ4AekDISMQBQKcO4ECAA4AeEHKQxPMkXS3pGkn+97OSrij0/7z5v/9+RdKvJD0s6Wdb9wjQt55whj6DfZWkz3bktm\n"
     ]
    }
   ],
   "source": [
    "with open('b64_2_preprocessing.txt', 'r') as f:\n",
    "    eg_2 = f.read()\n",
    "\n",
    "# Preview base64 encoded image\n",
    "print(eg_2[:500])"
   ]
  },
  {
   "cell_type": "code",
   "execution_count": 106,
   "metadata": {
    "collapsed": false
   },
   "outputs": [
    {
     "data": {
      "text/plain": [
       "(250, 250)"
      ]
     },
     "execution_count": 106,
     "metadata": {},
     "output_type": "execute_result"
    }
   ],
   "source": [
    "eg_2 = prep.b64_str_to_np(eg_2)\n",
    "eg_2.shape"
   ]
  },
  {
   "cell_type": "code",
   "execution_count": 107,
   "metadata": {
    "collapsed": false
   },
   "outputs": [
    {
     "data": {
      "image/png": "[encoded data removed]",
      "text/plain": [
       "<matplotlib.figure.Figure at 0x12c6bbe48>"
      ]
     },
     "metadata": {},
     "output_type": "display_data"
    }
   ],
   "source": [
    "# Plot the example handwritten digit\n",
    "plot_digit(eg_2, file_name='b64_2_preprocessing_1.png')"
   ]
  },
  {
   "cell_type": "code",
   "execution_count": 108,
   "metadata": {
    "collapsed": false
   },
   "outputs": [],
   "source": [
    "eg_2 = prep.crop_img(eg_2)"
   ]
  },
  {
   "cell_type": "code",
   "execution_count": 109,
   "metadata": {
    "collapsed": false
   },
   "outputs": [
    {
     "data": {
      "image/png": "[encoded data removed]",
      "text/plain": [
       "<matplotlib.figure.Figure at 0x12c4ee5c0>"
      ]
     },
     "metadata": {},
     "output_type": "display_data"
    }
   ],
   "source": [
    "plot_digit(eg_2, file_name='b64_2_preprocessing_2.png')"
   ]
  },
  {
   "cell_type": "code",
   "execution_count": 110,
   "metadata": {
    "collapsed": false
   },
   "outputs": [
    {
     "data": {
      "text/plain": [
       "(28, 28)"
      ]
     },
     "execution_count": 110,
     "metadata": {},
     "output_type": "execute_result"
    }
   ],
   "source": [
    "eg_2 = prep.resize_img(eg_2)\n",
    "eg_2.shape"
   ]
  },
  {
   "cell_type": "code",
   "execution_count": 111,
   "metadata": {
    "collapsed": false
   },
   "outputs": [
    {
     "data": {
      "image/png": "[encoded data removed]",
      "text/plain": [
       "<matplotlib.figure.Figure at 0x12c202c50>"
      ]
     },
     "metadata": {},
     "output_type": "display_data"
    }
   ],
   "source": [
    "plot_digit(eg_2, file_name='b64_2_preprocessing_3.png')"
   ]
  },
  {
   "cell_type": "code",
   "execution_count": 112,
   "metadata": {
    "collapsed": true
   },
   "outputs": [],
   "source": [
    "eg_2 = prep.min_max_scaler(eg_2, final_range=(0, 1))"
   ]
  },
  {
   "cell_type": "code",
   "execution_count": 113,
   "metadata": {
    "collapsed": false
   },
   "outputs": [
    {
     "data": {
      "image/png": "[encoded data removed]",
      "text/plain": [
       "<matplotlib.figure.Figure at 0x12c4ee940>"
      ]
     },
     "metadata": {},
     "output_type": "display_data"
    }
   ],
   "source": [
    "plot_digit(eg_2)"
   ]
  },
  {
   "cell_type": "code",
   "execution_count": 114,
   "metadata": {
    "collapsed": false
   },
   "outputs": [
    {
     "data": {
      "image/png": "[encoded data removed]",
      "text/plain": [
       "<matplotlib.figure.Figure at 0x12c6f1a20>"
      ]
     },
     "metadata": {},
     "output_type": "display_data"
    }
   ],
   "source": [
    "# Plot processed Digitre image together with MNIST example\n",
    "plot_digits([eg_2, X_eg[6]], 1, 2)"
   ]
  },
  {
   "cell_type": "code",
   "execution_count": 115,
   "metadata": {
    "collapsed": false
   },
   "outputs": [
    {
     "data": {
      "image/png": "[encoded data removed]",
      "text/plain": [
       "<matplotlib.figure.Figure at 0x12c0a6588>"
      ]
     },
     "metadata": {},
     "output_type": "display_data"
    }
   ],
   "source": [
    "# Save MNIST example too\n",
    "plot_digit(X_eg[6], file_name='MNIST_2.png')"
   ]
  },
  {
   "cell_type": "code",
   "execution_count": 116,
   "metadata": {
    "collapsed": false
   },
   "outputs": [
    {
     "data": {
      "text/plain": [
       "1.0"
      ]
     },
     "execution_count": 116,
     "metadata": {},
     "output_type": "execute_result"
    }
   ],
   "source": [
    "eg_2.max()"
   ]
  },
  {
   "cell_type": "code",
   "execution_count": 117,
   "metadata": {
    "collapsed": false
   },
   "outputs": [
    {
     "data": {
      "text/plain": [
       "(28, 28)"
      ]
     },
     "execution_count": 117,
     "metadata": {},
     "output_type": "execute_result"
    }
   ],
   "source": [
    "eg_2.shape"
   ]
  },
  {
   "cell_type": "markdown",
   "metadata": {
    "collapsed": true
   },
   "source": [
    "<a id=\"Class\"></a>\n",
    "## Classify preprocessed images"
   ]
  },
  {
   "cell_type": "code",
   "execution_count": 58,
   "metadata": {
    "collapsed": false
   },
   "outputs": [],
   "source": [
    "# Instantiate Classifier (loads the tflearn pre-trained model)\n",
    "model = digitre_classifier.Classifier(file_name='cnn.tflearn')"
   ]
  },
  {
   "cell_type": "code",
   "execution_count": 118,
   "metadata": {
    "collapsed": false
   },
   "outputs": [
    {
     "data": {
      "text/plain": [
       "array([ 0.,  0.,  1.,  0.,  0.,  0.,  0.,  0.,  0.,  0.])"
      ]
     },
     "execution_count": 118,
     "metadata": {},
     "output_type": "execute_result"
    }
   ],
   "source": [
    "# Classify same example digit\n",
    "with open('b64_2_preprocessing.txt', 'r') as f:\n",
    "    eg_2 = f.read()\n",
    "\n",
    "eg_2 = model.preprocess(eg_2)\n",
    "pred = np.around(model.classify(eg_2)[0], 2)\n",
    "pred"
   ]
  },
  {
   "cell_type": "code",
   "execution_count": 119,
   "metadata": {
    "collapsed": false,
    "scrolled": false
   },
   "outputs": [
    {
     "data": {
      "text/html": [
       "<div class=\"vega-embed\" id=\"167976e1-27b8-48df-83c7-0a518a46bd83\"></div>\n",
       "\n",
       "<style>\n",
       ".vega-embed svg, .vega-embed canvas {\n",
       "  border: 1px dotted gray;\n",
       "}\n",
       "\n",
       ".vega-embed .vega-actions a {\n",
       "  margin-right: 6px;\n",
       "}\n",
       "</style>\n"
      ]
     },
     "metadata": {
      "jupyter-vega": "#167976e1-27b8-48df-83c7-0a518a46bd83"
     },
     "output_type": "display_data"
    },
    {
     "data": {
      "application/javascript": [
       "var spec = {\"data\": {\"values\": [{\"y\": 0.0, \"x\": 0}, {\"y\": 0.0, \"x\": 1}, {\"y\": 1.0, \"x\": 2}, {\"y\": 0.0, \"x\": 3}, {\"y\": 0.0, \"x\": 4}, {\"y\": 0.0, \"x\": 5}, {\"y\": 0.0, \"x\": 6}, {\"y\": 0.0, \"x\": 7}, {\"y\": 0.0, \"x\": 8}, {\"y\": 0.0, \"x\": 9}]}, \"encoding\": {\"y\": {\"scale\": {\"domain\": [0.0, 1.0]}, \"field\": \"y\", \"axis\": {\"titleFontSize\": 15.0, \"title\": \"Probability\", \"tickLabelFontSize\": 15.0, \"format\": \"%\"}, \"type\": \"quantitative\"}, \"x\": {\"field\": \"x\", \"axis\": {\"titleFontSize\": 15.0, \"title\": \"Digit\", \"labelAngle\": 0.5, \"tickLabelFontSize\": 15.0}, \"type\": \"ordinal\"}}, \"config\": {\"cell\": {\"width\": 500, \"height\": 350}, \"mark\": {\"color\": \"#f6755e\"}}, \"mark\": \"bar\"};\n",
       "var selector = \"#167976e1-27b8-48df-83c7-0a518a46bd83\";\n",
       "var type = \"vega-lite\";\n",
       "\n",
       "var output_area = this;\n",
       "require(['nbextensions/jupyter-vega/index'], function(vega) {\n",
       "  vega.render(selector, spec, type, output_area);\n",
       "}, function (err) {\n",
       "  if (err.requireType !== 'scripterror') {\n",
       "    throw(err);\n",
       "  }\n",
       "});\n"
      ]
     },
     "metadata": {
      "jupyter-vega": "#167976e1-27b8-48df-83c7-0a518a46bd83"
     },
     "output_type": "display_data"
    },
    {
     "data": {
      "image/png": "[encoded data removed]"
     },
     "metadata": {
      "jupyter-vega": "#167976e1-27b8-48df-83c7-0a518a46bd83"
     },
     "output_type": "display_data"
    }
   ],
   "source": [
    "from altair import Chart, Data, X, Y, Axis, Scale\n",
    "\n",
    "# Plot prediction\n",
    "def prob_distribution_plot(pred):\n",
    "    prediction = pred.reshape([10])\n",
    "    data = Data(values=[{'x': i, 'y': value} for i, value in enumerate(pred)])\n",
    "    plot = Chart(data).mark_bar(color='#f6755e').encode(\n",
    "        x=X('x:O', axis=Axis(title='Digit', labelAngle=0.5,\n",
    "                             tickLabelFontSize=15, titleFontSize=15)),\n",
    "        y=Y('y:Q', axis=Axis(format='%', title='Probability',\n",
    "                             tickLabelFontSize=15, titleFontSize=15),\n",
    "            scale=Scale(domain=(0, 1))))\n",
    "    \n",
    "    return plot\n",
    "\n",
    "prob_distribution_plot(pred)"
   ]
  },
  {
   "cell_type": "code",
   "execution_count": 120,
   "metadata": {
    "collapsed": false,
    "scrolled": false
   },
   "outputs": [
    {
     "data": {
      "text/plain": [
       "'{\\n  \"config\": {\\n    \"mark\": {\\n      \"color\": \"#f6755e\"\\n    }\\n  },\\n  \"data\": {\\n    \"values\": [\\n      {\\n        \"x\": 0,\\n        \"y\": 0.0\\n      },\\n      {\\n        \"x\": 1,\\n        \"y\": 0.0\\n      },\\n      {\\n        \"x\": 2,\\n        \"y\": 1.0\\n      },\\n      {\\n        \"x\": 3,\\n        \"y\": 0.0\\n      },\\n      {\\n        \"x\": 4,\\n        \"y\": 0.0\\n      },\\n      {\\n        \"x\": 5,\\n        \"y\": 0.0\\n      },\\n      {\\n        \"x\": 6,\\n        \"y\": 0.0\\n      },\\n      {\\n        \"x\": 7,\\n        \"y\": 0.0\\n      },\\n      {\\n        \"x\": 8,\\n        \"y\": 0.0\\n      },\\n      {\\n        \"x\": 9,\\n        \"y\": 0.0\\n      }\\n    ]\\n  },\\n  \"encoding\": {\\n    \"x\": {\\n      \"axis\": {\\n        \"labelAngle\": 0.5,\\n        \"tickLabelFontSize\": 15.0,\\n        \"title\": \"Digit\",\\n        \"titleFontSize\": 15.0\\n      },\\n      \"field\": \"x\",\\n      \"type\": \"ordinal\"\\n    },\\n    \"y\": {\\n      \"axis\": {\\n        \"format\": \"%\",\\n        \"tickLabelFontSize\": 15.0,\\n        \"title\": \"Probability\",\\n        \"titleFontSize\": 15.0\\n      },\\n      \"field\": \"y\",\\n      \"type\": \"quantitative\"\\n    }\\n  },\\n  \"mark\": \"bar\"\\n}'"
      ]
     },
     "execution_count": 120,
     "metadata": {},
     "output_type": "execute_result"
    }
   ],
   "source": [
    "from altair import Chart, Data, X, Y, Axis\n",
    "\n",
    "# Plot prediction\n",
    "def prob_distribution_plot(pred):\n",
    "    prediction = pred.reshape([10])\n",
    "    data = Data(values=[{'x': i, 'y': value} for i, value in enumerate(prediction)])\n",
    "    plot = Chart(data).mark_bar(color='#f6755e').encode(\n",
    "        x=X('x:O', axis=Axis(title='Digit', labelAngle=0.5, tickLabelFontSize=15, titleFontSize=15)),\n",
    "        y=Y('y:Q', axis=Axis(format='%', title='Probability', tickLabelFontSize=15, titleFontSize=15)))\n",
    "    \n",
    "    return plot.to_json(indent=2)\n",
    "\n",
    "prob_distribution_plot(pred)"
   ]
  },
  {
   "cell_type": "markdown",
   "metadata": {},
   "source": [
    "[Back to top](#Top)"
   ]
  }
 ],
 "metadata": {
  "anaconda-cloud": {},
  "kernelspec": {
   "display_name": "Python [default]",
   "language": "python",
   "name": "python3"
  },
  "language_info": {
   "codemirror_mode": {
    "name": "ipython",
    "version": 3
   },
   "file_extension": ".py",
   "mimetype": "text/x-python",
   "name": "python",
   "nbconvert_exporter": "python",
   "pygments_lexer": "ipython3",
   "version": "3.5.2"
  }
 },
 "nbformat": 4,
 "nbformat_minor": 0
}
